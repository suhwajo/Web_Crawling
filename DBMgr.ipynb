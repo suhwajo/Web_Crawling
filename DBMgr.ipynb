{
 "cells": [
  {
   "cell_type": "code",
   "execution_count": 3,
   "metadata": {},
   "outputs": [],
   "source": [
    "##DbMgr\n",
    "# 디비처리, 연결, 해제, 검색어 가져오기, 데이터 삽입\n",
    "\n",
    "import pymysql as my\n",
    "\n",
    "class DBHelper:\n",
    "    '''\n",
    "    멤버변수 : 커넥션\n",
    "    '''\n",
    "    conn = None\n",
    "    '''\n",
    "    생성자\n",
    "    '''\n",
    "    def __init__(self):\n",
    "        self.db_init()\n",
    "        '''\n",
    "        멤버 함수\n",
    "        '''\n",
    "    def db_init(self):\n",
    "        self.conn = my.connect(host='localhost',\n",
    "                                user='root',\n",
    "                                password='1234',\n",
    "                                db='pythonDB',\n",
    "                                charset='utf8',\n",
    "                                cursorclass=my.cursors.DictCursor\n",
    "            \n",
    "        )\n",
    "    def db_free(self):\n",
    "        if self.conn:\n",
    "            self.conn.close\n",
    "                \n",
    "    # 검색 키워드 가져오기 => 웹에서 검색\n",
    "    def db_selectKeyword(self):\n",
    "        #커서 오픈\n",
    "        #with => 닫기 처리를 자동으로 처리해준다 => I/O 많이 사용\n",
    "        rows = None\n",
    "        with self.conn.cursor() as cursor:\n",
    "            sql = \"SELECT * FROM tbl_keyword;\"\n",
    "            cursor.execute(sql)\n",
    "            rows = cursor.fetchall()\n",
    "            print(rows)\n",
    "        return rows\n",
    "        \n",
    "    def db_insertCrawlingData(self, title, price, area, contents, keyword):\n",
    "        with self.conn.cursor() as cursor:\n",
    "            sql = '''\n",
    "            insert into `tbl_crawlingdata`\n",
    "            (title, price, area, contents,keyword)\n",
    "            values ( %s, %s, %s, %s, %s )\n",
    "            '''\n",
    "            cursor.execute(sql, (title, price, area, contents, keyword))\n",
    "        self.conn.commit()"
   ]
  },
  {
   "cell_type": "code",
   "execution_count": 4,
   "metadata": {},
   "outputs": [
    {
     "name": "stdout",
     "output_type": "stream",
     "text": [
      "[{'keyword': '바르셀로나'}, {'keyword': '베를린'}, {'keyword': '파리'}]\n",
      "[{'keyword': '바르셀로나'}, {'keyword': '베를린'}, {'keyword': '파리'}]\n",
      "None\n"
     ]
    }
   ],
   "source": [
    "# 단독으로 수행 시에만 작동 => 테스트코드로 삽입해서 사용\n",
    "if __name__=='__main__':\n",
    "    db = DBHelper()\n",
    "    print(db.db_selectKeyword())\n",
    "    print(db.db_insertCrawlingData('1', '2', '3', '4', '5'))\n",
    "    db.db_free()"
   ]
  },
  {
   "cell_type": "code",
   "execution_count": null,
   "metadata": {},
   "outputs": [],
   "source": []
  }
 ],
 "metadata": {
  "kernelspec": {
   "display_name": "Python 3",
   "language": "python",
   "name": "python3"
  },
  "language_info": {
   "codemirror_mode": {
    "name": "ipython",
    "version": 3
   },
   "file_extension": ".py",
   "mimetype": "text/x-python",
   "name": "python",
   "nbconvert_exporter": "python",
   "pygments_lexer": "ipython3",
   "version": "3.7.3"
  }
 },
 "nbformat": 4,
 "nbformat_minor": 2
}
